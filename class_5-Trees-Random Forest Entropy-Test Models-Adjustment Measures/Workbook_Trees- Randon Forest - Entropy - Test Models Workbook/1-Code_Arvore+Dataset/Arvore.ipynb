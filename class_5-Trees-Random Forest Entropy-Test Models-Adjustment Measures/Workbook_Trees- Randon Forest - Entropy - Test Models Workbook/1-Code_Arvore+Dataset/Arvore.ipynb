{
  "nbformat": 4,
  "nbformat_minor": 0,
  "metadata": {
    "colab": {
      "provenance": []
    },
    "kernelspec": {
      "name": "python3",
      "display_name": "Python 3"
    },
    "language_info": {
      "name": "python"
    }
  },
  "cells": [
    {
      "cell_type": "code",
      "execution_count": null,
      "metadata": {
        "id": "pQOZfkdI8nks"
      },
      "outputs": [],
      "source": [
        "# ==========================================\n",
        "# Árvore de Decisão\n",
        "# ==========================================\n",
        "\n",
        "import pandas as pd\n",
        "import numpy as np\n",
        "from sklearn.model_selection import train_test_split\n",
        "from sklearn.tree import DecisionTreeClassifier, plot_tree, export_text\n",
        "from sklearn.metrics import accuracy_score, confusion_matrix, classification_report\n",
        "import matplotlib.pyplot as plt\n",
        "import seaborn as sns"
      ]
    },
    {
      "cell_type": "code",
      "source": [
        "df = pd.read_csv('/content/Varejo.csv')\n",
        "df.head()"
      ],
      "metadata": {
        "id": "-dZN3mTp9IcK"
      },
      "execution_count": null,
      "outputs": []
    },
    {
      "cell_type": "code",
      "source": [
        "# ==========================================\n",
        "# 2. Separação em treino e teste\n",
        "# ==========================================\n",
        "X = df.drop(\"CompEmbRec\", axis=1)\n",
        "y = df[\"CompEmbRec\"]\n",
        "\n",
        "X_train, X_test, y_train, y_test = train_test_split(\n",
        "    X, y, test_size=0.3, random_state=42, stratify=y\n",
        ")\n"
      ],
      "metadata": {
        "id": "sY5RQbga9bue"
      },
      "execution_count": null,
      "outputs": []
    },
    {
      "cell_type": "code",
      "source": [
        "# ==========================================\n",
        "# 3. Construção do Modelo\n",
        "# ==========================================\n",
        "modelo = DecisionTreeClassifier(\n",
        "    criterion=\"entropy\",     # ou \"entropy\"\n",
        "    max_depth=4,          # controla a profundidade da árvore\n",
        "    min_samples_split=10, # mínimo de amostras para split\n",
        "    random_state=42\n",
        ")\n",
        "\n",
        "modelo.fit(X_train, y_train)"
      ],
      "metadata": {
        "id": "reHKS53E9o-m"
      },
      "execution_count": null,
      "outputs": []
    },
    {
      "cell_type": "code",
      "source": [
        "# ==========================================\n",
        "# 4. Avaliação\n",
        "# ==========================================\n",
        "y_pred = modelo.predict(X_test)\n",
        "\n",
        "print(\"\\nAcurácia:\", accuracy_score(y_test, y_pred))\n",
        "print(\"\\nMatriz de Confusão:\\n\", confusion_matrix(y_test, y_pred))\n",
        "print(\"\\nRelatório de Classificação:\\n\", classification_report(y_test, y_pred))\n",
        "\n",
        "# Matriz de confusão em heatmap\n",
        "plt.figure(figsize=(5,4))\n",
        "sns.heatmap(confusion_matrix(y_test, y_pred), annot=True, fmt=\"d\", cmap=\"Blues\")\n",
        "plt.xlabel(\"Previsto\")\n",
        "plt.ylabel(\"Real\")\n",
        "plt.title(\"Matriz de Confusão\")\n",
        "plt.show()"
      ],
      "metadata": {
        "id": "ABwb6gxQ9w4m"
      },
      "execution_count": null,
      "outputs": []
    },
    {
      "cell_type": "code",
      "source": [],
      "metadata": {
        "id": "e9nqA7cs-GlA"
      },
      "execution_count": null,
      "outputs": []
    },
    {
      "cell_type": "code",
      "source": [
        "# ==========================================\n",
        "# 5. Importância das Variáveis\n",
        "# ==========================================\n",
        "importancias = pd.Series(modelo.feature_importances_, index=X.columns)\n",
        "importancias = importancias.sort_values(ascending=True)\n",
        "\n",
        "plt.figure(figsize=(8,5))\n",
        "importancias.plot(kind=\"barh\", color=\"green\")\n",
        "plt.title(\"Importância das Variáveis na Árvore\")\n",
        "plt.xlabel(\"Importância\")\n",
        "plt.show()\n",
        "\n",
        "print(\"\\nImportância das Variáveis:\")\n",
        "print(importancias.sort_values(ascending=False))\n"
      ],
      "metadata": {
        "id": "JTW4jgWY_TFe"
      },
      "execution_count": null,
      "outputs": []
    },
    {
      "cell_type": "markdown",
      "source": [],
      "metadata": {
        "id": "UQiCaiPu_X5e"
      }
    },
    {
      "cell_type": "code",
      "source": [
        "# ==========================================\n",
        "# 6. Exportar as Regras da Árvore\n",
        "# ==========================================\n",
        "regras = export_text(modelo, feature_names=list(X.columns))\n",
        "print(\"\\nRegras da Árvore de Decisão:\\n\")\n",
        "print(regras)"
      ],
      "metadata": {
        "id": "22XysONI_YO-"
      },
      "execution_count": null,
      "outputs": []
    },
    {
      "cell_type": "code",
      "source": [
        "\n",
        "# ==========================================\n",
        "# 7. Visualização da Árvore\n",
        "# ==========================================\n",
        "plt.figure(figsize=(20,10))\n",
        "plot_tree(modelo, feature_names=X.columns, class_names=[\"Não Compra\", \"Compra\"],\n",
        "          filled=True, rounded=True, fontsize=10)\n",
        "plt.show()"
      ],
      "metadata": {
        "id": "iWEIEVsuAZx6"
      },
      "execution_count": null,
      "outputs": []
    }
  ]
}