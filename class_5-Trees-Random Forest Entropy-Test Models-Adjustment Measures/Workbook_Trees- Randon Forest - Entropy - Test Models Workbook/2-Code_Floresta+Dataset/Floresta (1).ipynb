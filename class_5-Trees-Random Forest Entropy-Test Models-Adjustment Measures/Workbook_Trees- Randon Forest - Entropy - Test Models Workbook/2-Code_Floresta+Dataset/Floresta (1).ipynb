{
  "nbformat": 4,
  "nbformat_minor": 0,
  "metadata": {
    "colab": {
      "private_outputs": true,
      "provenance": []
    },
    "kernelspec": {
      "name": "python3",
      "display_name": "Python 3"
    },
    "language_info": {
      "name": "python"
    }
  },
  "cells": [
    {
      "cell_type": "code",
      "execution_count": null,
      "metadata": {
        "id": "umLV_y1zB0c7"
      },
      "outputs": [],
      "source": [
        "from google.colab import userdata\n",
        "userdata.get('GOOGLE_API_KEY_1')"
      ]
    },
    {
      "cell_type": "code",
      "source": [
        "# ==========================================\n",
        "# Random Forest\n",
        "# ==========================================\n",
        "\n",
        "import pandas as pd\n",
        "import numpy as np\n",
        "from sklearn.model_selection import train_test_split\n",
        "from sklearn.ensemble import RandomForestClassifier\n",
        "from sklearn.metrics import accuracy_score, confusion_matrix, classification_report\n",
        "import matplotlib.pyplot as plt\n",
        "import seaborn as sns\n",
        "from sklearn.tree import export_text, plot_tree"
      ],
      "metadata": {
        "id": "nrlC4TvdCCR8"
      },
      "execution_count": null,
      "outputs": []
    },
    {
      "cell_type": "code",
      "source": [
        "df = pd.read_csv('/content/Varejo.csv')\n",
        "df.head()"
      ],
      "metadata": {
        "id": "UWvqznhAInL8"
      },
      "execution_count": null,
      "outputs": []
    },
    {
      "cell_type": "code",
      "source": [
        "# ==========================================\n",
        "# 2. Separação em treino e teste\n",
        "# ==========================================\n",
        "X = df.drop(\"CompEmbRec\", axis=1)\n",
        "y = df[\"CompEmbRec\"]\n",
        "\n",
        "X_train, X_test, y_train, y_test = train_test_split(\n",
        "    X, y, test_size=0.3, random_state=42, stratify=y\n",
        ")\n"
      ],
      "metadata": {
        "id": "IAp3BC1MIrc3"
      },
      "execution_count": null,
      "outputs": []
    },
    {
      "cell_type": "code",
      "source": [
        "# ==========================================\n",
        "# 3. Modelo Random Forest\n",
        "# ==========================================\n",
        "modelo_rf = RandomForestClassifier(\n",
        "    n_estimators=100,   # número de árvores\n",
        "    max_depth=6,        # profundidade máxima\n",
        "    min_samples_split=5,\n",
        "    random_state=42\n",
        ")\n",
        "\n",
        "modelo_rf.fit(X_train, y_train)"
      ],
      "metadata": {
        "id": "z6u-q5VMIvOh"
      },
      "execution_count": null,
      "outputs": []
    },
    {
      "cell_type": "code",
      "source": [
        "# ==========================================\n",
        "# 4. Avaliação\n",
        "# ==========================================\n",
        "y_pred = modelo_rf.predict(X_test)\n",
        "\n",
        "print(\"\\nAcurácia:\", accuracy_score(y_test, y_pred))\n",
        "print(\"\\nMatriz de Confusão:\\n\", confusion_matrix(y_test, y_pred))\n",
        "print(\"\\nRelatório de Classificação:\\n\", classification_report(y_test, y_pred))\n",
        "\n",
        "# Heatmap matriz de confusão\n",
        "plt.figure(figsize=(5,4))\n",
        "sns.heatmap(confusion_matrix(y_test, y_pred), annot=True, fmt=\"d\", cmap=\"Blues\")\n",
        "plt.xlabel(\"Previsto\")\n",
        "plt.ylabel(\"Real\")\n",
        "plt.title(\"Matriz de Confusão - Random Forest\")\n",
        "plt.show()"
      ],
      "metadata": {
        "id": "5wzf1RmhIyny"
      },
      "execution_count": null,
      "outputs": []
    },
    {
      "cell_type": "code",
      "source": [
        "\n",
        "# ==========================================\n",
        "# 5. Importância das Variáveis\n",
        "# ==========================================\n",
        "importancias = pd.Series(modelo_rf.feature_importances_, index=X.columns)\n",
        "importancias = importancias.sort_values(ascending=True)\n",
        "\n",
        "plt.figure(figsize=(8,5))\n",
        "importancias.plot(kind=\"barh\", color=\"darkblue\")\n",
        "plt.title(\"Importância das Variáveis no Random Forest\")\n",
        "plt.xlabel(\"Importância\")\n",
        "plt.show()\n",
        "\n",
        "print(\"\\nImportância das Variáveis:\")\n",
        "print(importancias.sort_values(ascending=False))\n",
        "\n",
        "print(\"\\nImportância das Variáveis:\")\n",
        "print(importancias.sort_values(ascending=False))\n"
      ],
      "metadata": {
        "id": "g_QwxrjxI2tK"
      },
      "execution_count": null,
      "outputs": []
    }
  ]
}