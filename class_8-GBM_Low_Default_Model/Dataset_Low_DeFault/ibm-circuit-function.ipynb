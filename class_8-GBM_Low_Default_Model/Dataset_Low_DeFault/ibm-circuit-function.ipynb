{
  "cells": [
    {
      "cell_type": "markdown",
      "id": "dde95705",
      "metadata": {},
      "source": [
        "# IBM Circuit function\n",
        "\n"
      ]
    },
    {
      "cell_type": "code",
      "execution_count": 2,
      "id": "d9fc3e0d",
      "metadata": {},
      "outputs": [
        {
          "data": {
            "text/plain": [
              "{'name': '01-a20Eud9BAjgEqpUPtlfNWw5_x1CMJwdw_Hu1EZ_zE',\n",
              " 'description': 'IBM Quantum API key',\n",
              " 'createdAt': '2025-09-19T03:20+0000',\n",
              " 'apikey': 'ozccr_35fCxdOhk0JpoT7MyblRl3pBfBdt8KtsEKU6Ls'}"
            ]
          },
          "execution_count": 2,
          "metadata": {},
          "output_type": "execute_result"
        }
      ],
      "source": [
        "{\n",
        "  \"name\": \"01-a20Eud9BAjgEqpUPtlfNWw5_x1CMJwdw_Hu1EZ_zE\",\n",
        "  \"description\": \"IBM Quantum API key\",\n",
        "  \"createdAt\": \"2025-09-19T03:20+0000\",\n",
        "  \"apikey\": \"ozccr_35fCxdOhk0JpoT7MyblRl3pBfBdt8KtsEKU6Ls\"\n",
        "}"
      ]
    },
    {
      "cell_type": "markdown",
      "id": "e8837f5f",
      "metadata": {},
      "source": [
        "## Example\n",
        "\n",
        "To get started, try this basic example:\n",
        "\n"
      ]
    },
    {
      "cell_type": "code",
      "execution_count": 13,
      "id": "d56e1440",
      "metadata": {},
      "outputs": [
        {
          "ename": "ModuleNotFoundError",
          "evalue": "No module named 'qiskit'",
          "output_type": "error",
          "traceback": [
            "\u001b[0;31m---------------------------------------------------------------------------\u001b[0m",
            "\u001b[0;31mModuleNotFoundError\u001b[0m                       Traceback (most recent call last)",
            "Cell \u001b[0;32mIn[13], line 1\u001b[0m\n\u001b[0;32m----> 1\u001b[0m \u001b[38;5;28;01mfrom\u001b[39;00m \u001b[38;5;21;01mqiskit\u001b[39;00m\u001b[38;5;21;01m.\u001b[39;00m\u001b[38;5;21;01mcircuit\u001b[39;00m\u001b[38;5;21;01m.\u001b[39;00m\u001b[38;5;21;01mrandom\u001b[39;00m \u001b[38;5;28;01mimport\u001b[39;00m random_circuit\n\u001b[1;32m      2\u001b[0m \u001b[38;5;28;01mfrom\u001b[39;00m \u001b[38;5;21;01mqiskit_ibm_runtime\u001b[39;00m \u001b[38;5;28;01mimport\u001b[39;00m QiskitRuntimeService\n\u001b[1;32m      4\u001b[0m \u001b[38;5;66;03m# You can skip this step if you have a target backend, e.g.\u001b[39;00m\n\u001b[1;32m      5\u001b[0m \u001b[38;5;66;03m# backend_name = \"ibm_brisbane\"\u001b[39;00m\n\u001b[1;32m      6\u001b[0m \u001b[38;5;66;03m# You'll need to specify the credentials when initializing QiskitRuntimeService, if they were not previously saved.\u001b[39;00m\n",
            "\u001b[0;31mModuleNotFoundError\u001b[0m: No module named 'qiskit'"
          ]
        }
      ],
      "source": [
        "from qiskit.circuit.random import random_circuit\n",
        "from qiskit_ibm_runtime import QiskitRuntimeService\n",
        "\n",
        "# You can skip this step if you have a target backend, e.g.\n",
        "# backend_name = \"ibm_brisbane\"\n",
        "# You'll need to specify the credentials when initializing QiskitRuntimeService, if they were not previously saved.\n",
        "service = QiskitRuntimeService()\n",
        "backend = service.least_busy(operational=True, simulator=False)\n",
        "\n",
        "circuit = random_circuit(num_qubits=2, depth=2, seed=42)\n",
        "observable = \"Z\" * circuit.num_qubits\n",
        "pubs = [(circuit, observable)]\n",
        "\n",
        "job = function.run(\n",
        "    # Use `backend_name=backend_name` if you didn't initialize a backend object\n",
        "    backend_name=backend.name,\n",
        "    pubs=pubs,\n",
        ")"
      ]
    },
    {
      "cell_type": "markdown",
      "id": "03998691",
      "metadata": {},
      "source": [
        "Check your Qiskit Function workload's [status](/docs/guides/functions#check-job-status) or return [results](/docs/guides/functions#retrieve-results) as follows:\n",
        "\n"
      ]
    },
    {
      "cell_type": "code",
      "execution_count": null,
      "id": "856fe992",
      "metadata": {},
      "outputs": [],
      "source": [
        "print(job.status())\n",
        "result = job.result()"
      ]
    },
    {
      "cell_type": "markdown",
      "id": "eda36356",
      "metadata": {},
      "source": [
        "The results have the same format as an [Estimator result](/docs/guides/primitive-input-output#estimator-output):\n",
        "\n"
      ]
    },
    {
      "cell_type": "code",
      "execution_count": null,
      "id": "765f3207",
      "metadata": {},
      "outputs": [],
      "source": [
        "print(f\"The result of the submitted job had {len(result)} PUB\\n\")\n",
        "print(\n",
        "    f\"The associated PubResult of this job has the following DataBins:\\n {result[0].data}\\n\"\n",
        ")\n",
        "print(f\"And this DataBin has attributes: {result[0].data.keys()}\")\n",
        "print(\n",
        "    f\"The expectation values measured from this PUB are: \\n{result[0].data.evs}\"\n",
        ")"
      ]
    },
    {
      "cell_type": "markdown",
      "id": "73815ae7",
      "metadata": {},
      "source": [
        "## Inputs\n",
        "\n",
        "See the following table for all input parameters the IBM Circuit function accepts. The subsequent [Options](#options) section goes into more details about the available `options`.\n",
        "\n"
      ]
    },
    {
      "cell_type": "markdown",
      "id": "19eafc4c",
      "metadata": {},
      "source": [
        "| Name          | Type                        | Description                                                                                                                                                                                                                                                                                          | Required | Default                                                                  | Example                                   |\n",
        "| ------------- | --------------------------- | ---------------------------------------------------------------------------------------------------------------------------------------------------------------------------------------------------------------------------------------------------------------------------------------------------- | -------- | ------------------------------------------------------------------------ | ----------------------------------------- |\n",
        "| backend\\_name | str                         | Name of the backend to make the query.                                                                                                                                                                                                                                                               | Yes      | N/A                                                                      | `ibm_fez`                                 |\n",
        "| pubs          | Iterable\\[EstimatorPubLike] | An iterable of abstract PUB-like (primitive unified bloc) objects, such as tuples `(circuit, observables)` or `(circuit, observables, parameter_values)`. See [Overview of PUBs](/docs/guides/primitive-input-output#overview-of-pubs) for more information. The circuits can be abstract (non-ISA). | Yes      | N/A                                                                      | (circuit, observables, parameter\\_values) |\n",
        "| options       | dict                        | Input options. See the **Options** section for more details.                                                                                                                                                                                                                                         | No       | See the **Options** section for details.                                 | `{\"optimization_level\": 3}`               |\n",
        "| instance      | str                         | The cloud resource name of the instance to use in that format.                                                                                                                                                                                                                                       | No       | One is randomly picked if your account has access to multiple instances. | `CRN`                                     |\n",
        "\n"
      ]
    },
    {
      "cell_type": "markdown",
      "id": "a1072bd6",
      "metadata": {},
      "source": [
        "### Options\n",
        "\n",
        "#### Structure\n",
        "\n",
        "Similar to Qiskit Runtime primitives, options for IBM Circuit function can be specified as a nested dictionary. Commonly used options, such as `optimization_level` and `mitigation_level`, are at the first level. Other, more advanced options are grouped into different categories, such as `resilience`.\n",
        "\n",
        "#### Defaults\n",
        "\n",
        "If you do not specify a value for an option, the default value specified by the service is used.\n",
        "\n",
        "#### Mitigation level\n",
        "\n",
        "IBM Circuit function also supports `mitigation_level`. The mitigation level specifies how much error suppression and mitigation to apply to the job. Higher levels generate more accurate results, at the expense of longer processing times. The degree of error reduction depends on the method applied. The mitigation level abstracts the detailed choice of error mitigation and suppression methods to allow users to reason about the cost/accuracy trade-off appropriate to their application. The following table shows the corresponding methods for each level.\n",
        "\n",
        "<Admonition type=\"note\">\n",
        "  While the names are similar, `mitigation_level` applies different techniques than the ones used by Estimator’s `resilience_level`.\n",
        "</Admonition>\n",
        "\n",
        "Similar to `resilience_level` in Qiskit Runtime Estimator, `mitigation_level` specifies a base set of curated options. Any options you manually specify in addition to the mitigation level are applied on top of the base set of options defined by the mitigation level. Therefore, in principle, you could set the mitigation level to 1, but then turn off measurement mitigation, although this is not advised.\n",
        "\n",
        "| **Mitigation Level** |                    **Technique**                   |\n",
        "| :------------------: | :------------------------------------------------: |\n",
        "|     1 \\[Default]     | Dynamical decoupling + measurement twirling + TREX |\n",
        "|           2          |   Level 1 + gate twirling + ZNE via gate folding   |\n",
        "|           3          |        Level 1 + gate twirling + ZNE via PEA       |\n",
        "\n",
        "The following example demonstrates setting the mitigation level:\n",
        "\n"
      ]
    },
    {
      "cell_type": "code",
      "execution_count": null,
      "id": "13443be4",
      "metadata": {},
      "outputs": [],
      "source": [
        "options = {\"mitigation_level\": 2}\n",
        "\n",
        "job = function.run(backend_name=backend.name, pubs=pubs, options=options)"
      ]
    },
    {
      "cell_type": "markdown",
      "id": "c823d7b3",
      "metadata": {},
      "source": [
        "#### All available options\n",
        "\n",
        "In addition to `mitigation_level`, the IBM Circuit function also provides a select number of advanced options that allow you to fine-tune the cost/accuracy trade-off. The following table shows all the available options:\n",
        "\n",
        "| Option                | Sub-option          | Sub-sub-option | Description                                                                                                                                                                                                                                                                                                                                                                                                                                                                                                                                                                                                                                                                                                                                                                                                                                                                                                                                                                                                                    | Choices                                                                                       | Default                                       |\n",
        "| --------------------- | ------------------- | -------------- | ------------------------------------------------------------------------------------------------------------------------------------------------------------------------------------------------------------------------------------------------------------------------------------------------------------------------------------------------------------------------------------------------------------------------------------------------------------------------------------------------------------------------------------------------------------------------------------------------------------------------------------------------------------------------------------------------------------------------------------------------------------------------------------------------------------------------------------------------------------------------------------------------------------------------------------------------------------------------------------------------------------------------------ | --------------------------------------------------------------------------------------------- | --------------------------------------------- |\n",
        "| default\\_precision    |                     |                | The default precision to use for any PUB or `run()`<br />call that does not specify one.<br />Each input PUB can specify its own precision. If the `run()` method is given a precision, then that value is used for all PUBs in the `run()` call that do not specify their own.                                                                                                                                                                                                                                                                                                                                                                                                                                                                                                                                                                                                                                                                                                                                                | float > 0                                                                                     | 0.015625                                      |\n",
        "| max\\_execution\\_time  |                     |                | Maximum execution time in seconds, which is based<br />on QPU usage (not wall clock time). QPU usage is the<br />amount of time that the QPU is dedicated to processing your job. If a job exceeds this time limit, it is forcibly canceled.                                                                                                                                                                                                                                                                                                                                                                                                                                                                                                                                                                                                                                                                                                                                                                                   | Integer number of seconds in the range \\[1, 10800]                                            |                                               |\n",
        "| mitigation\\_level     |                     |                | How much error suppression and mitigation to apply. Refer to the [Mitigation level](#mitigation-level) section for more information about the methods used at each level.                                                                                                                                                                                                                                                                                                                                                                                                                                                                                                                                                                                                                                                                                                                                                                                                                                                      | 1 / 2 / 3                                                                                     | 1                                             |\n",
        "| optimization\\_level   |                     |                | How much optimization to perform on the circuits. [Higher levels](/docs/guides/set-optimization) generate more optimized circuits, at the expense of longer transpilation time.                                                                                                                                                                                                                                                                                                                                                                                                                                                                                                                                                                                                                                                                                                                                                                                                                                                | 1 / 2 / 3                                                                                     | 2                                             |\n",
        "| dynamical\\_decoupling | enable              |                | Whether to enable dynamical decoupling. Refer to [Error suppression and mitigation techniques](/docs/guides/error-mitigation-and-suppression-techniques#dynamical-decoupling) for the explanation of the method.                                                                                                                                                                                                                                                                                                                                                                                                                                                                                                                                                                                                                                                                                                                                                                                                               | True/False                                                                                    | True                                          |\n",
        "|                       | sequence\\_type      |                | Which dynamical decoupling sequence to use.<br />\\* `XX`: use the sequence `tau/2 - (+X) - tau - (+X) - tau/2`<br />\\* `XpXm`: use the sequence `tau/2 - (+X) - tau - (-X) - tau/2`<br />\\* `XY4`: use the sequence<br />`tau/2 - (+X) - tau - (+Y) - tau (-X) - tau - (-Y) - tau/2`                                                                                                                                                                                                                                                                                                                                                                                                                                                                                                                                                                                                                                                                                                                                           | 'XX'/'XpXm'/'XY4'                                                                             | 'XX'                                          |\n",
        "| twirling              | enable\\_gates       |                | Whether to apply 2-qubit Clifford gate twirling.                                                                                                                                                                                                                                                                                                                                                                                                                                                                                                                                                                                                                                                                                                                                                                                                                                                                                                                                                                               | True/False                                                                                    | False                                         |\n",
        "|                       | enable\\_measure     |                | Whether to enable twirling of measurements.                                                                                                                                                                                                                                                                                                                                                                                                                                                                                                                                                                                                                                                                                                                                                                                                                                                                                                                                                                                    | True/False                                                                                    | True                                          |\n",
        "| resilience            | measure\\_mitigation |                | Whether to enable TREX measurement error mitigation method. Refer to [Error suppression and mitigation techniques](/docs/guides/error-mitigation-and-suppression-techniques#twirled-readout-error-extinction-trex) for the explanation of the method.                                                                                                                                                                                                                                                                                                                                                                                                                                                                                                                                                                                                                                                                                                                                                                          | True/False                                                                                    | True                                          |\n",
        "|                       | zne\\_mitigation     |                | Whether to turn on Zero Noise Extrapolation error mitigation method. Refer to [Error suppression and mitigation techniques](/docs/guides/error-mitigation-and-suppression-techniques#zero-noise-extrapolation-zne) for the explanation of the method.                                                                                                                                                                                                                                                                                                                                                                                                                                                                                                                                                                                                                                                                                                                                                                          | True/False                                                                                    | False                                         |\n",
        "|                       | zne                 | amplifier      | Which technique to use for amplifying noise. One of: <br /> - `gate_folding` (default) uses 2-qubit gate folding to amplify noise. If the noise factor requires amplifying only a subset of the gates, then these gates are chosen randomly.<br /><br /> - `gate_folding_front` uses 2-qubit gate folding to amplify noise. If the noise factor requires amplifying only a subset of the gates, then these gates are selected from the front of the topologically ordered DAG circuit.<br /><br /> - `gate_folding_back` uses 2-qubit gate folding to amplify noise. If the noise factor requires amplifying only a subset of the gates, then these gates are selected from the back of the topologically ordered DAG circuit.<br /><br /> - `pea` uses a technique called Probabilistic error amplification (PEA) to amplify noise. Refer to [Error suppression and mitigation techniques](/docs/guides/error-mitigation-and-suppression-techniques#probabilistic-error-amplification-pea) for the explanation of the method. | gate\\_folding / gate\\_folding\\_front / gate\\_folding\\_back / pea                              | gate\\_folding                                 |\n",
        "|                       |                     | noise\\_factors | Noise factors to use for noise amplification.                                                                                                                                                                                                                                                                                                                                                                                                                                                                                                                                                                                                                                                                                                                                                                                                                                                                                                                                                                                  | list of floats; each float >= 1                                                               | (1, 1.5, 2) for PEA, and (1, 3, 5) otherwise. |\n",
        "|                       |                     | extrapolator   | Noise factors to evaluate the fit extrapolation models at. This option does not affect execution or model fitting in any way; it only determines the points at which the `extrapolator`s are evaluated to be returned in the data fields called `evs_extrapolated` and `stds_extrapolated`.                                                                                                                                                                                                                                                                                                                                                                                                                                                                                                                                                                                                                                                                                                                                    | one or more of `exponential`,`linear`, `double_exponential`,`polynomial_degree_(1 <= k <= 7)` | (`exponential`, `linear`)                     |\n",
        "|                       | pec\\_mitigation     |                | Whether to turn on Probabilistic Error Cancellation error mitigation method. Refer to [Error suppression and mitigation techniques](/docs/guides/error-mitigation-and-suppression-techniques#probabilistic-error-cancellation-pec) for the explanation of the method.                                                                                                                                                                                                                                                                                                                                                                                                                                                                                                                                                                                                                                                                                                                                                          | True/False                                                                                    | False                                         |\n",
        "|                       | pec                 | max\\_overhead  | The maximum circuit sampling overhead allowed, or `None` for no maximum.                                                                                                                                                                                                                                                                                                                                                                                                                                                                                                                                                                                                                                                                                                                                                                                                                                                                                                                                                       | None/ integer >1                                                                              | 100                                           |\n",
        "\n",
        "In the following example, setting the mitigation level to 1 initially turns off ZNE mitigation, but setting `zne_mitigation` to `True` overrides the relevant setup from `mitigation_level`.\n",
        "\n"
      ]
    },
    {
      "cell_type": "code",
      "execution_count": null,
      "id": "b2632bd9",
      "metadata": {},
      "outputs": [],
      "source": [
        "options = {\"mitigation_level\": 1, \"resilience\": {\"zne_mitigation\": True}}"
      ]
    },
    {
      "cell_type": "markdown",
      "id": "997c3779",
      "metadata": {},
      "source": [
        "## Outputs\n",
        "\n"
      ]
    },
    {
      "cell_type": "markdown",
      "id": "75d7cbba",
      "metadata": {},
      "source": [
        "The output of a Circuit function is a [PrimitiveResult](/docs/api/qiskit/qiskit.primitives.PrimitiveResult), which contains two fields:\n",
        "\n",
        "*   One or more [PubResult](/docs/api/qiskit/qiskit.primitives.PubResult) objects. These can be indexed directly from the `PrimitiveResult`.\n",
        "\n",
        "*   Job-level metadata.\n",
        "\n",
        "Each `PubResult` contains a `data` and a `metadata` field.\n",
        "\n",
        "*   The `data` field contains at least an array of expectation values (`PubResult.data.evs`) and an array of standard errors (`PubResult.data.stds`). It can also contain more data, depending on the options used.\n",
        "\n",
        "*   The `metadata` field contains PUB-level metadata (`PubResult.metadata`).\n",
        "\n",
        "The following code snippet describes the `PrimitiveResult` (and associated `PubResult`) format.\n",
        "\n"
      ]
    },
    {
      "cell_type": "code",
      "execution_count": null,
      "id": "6e3f86aa",
      "metadata": {},
      "outputs": [],
      "source": [
        "print(f\"The result of the submitted job had {len(result)} PUB\")\n",
        "print(\n",
        "    f\"The expectation values measured from this PUB are: \\n{result[0].data.evs}\"\n",
        ")\n",
        "print(f\"And the associated metadata is: \\n{result[0].metadata}\")"
      ]
    },
    {
      "cell_type": "markdown",
      "id": "02295f5d",
      "metadata": {},
      "source": [
        "## Fetching error messages\n",
        "\n",
        "If your workload status is `ERROR`, use `job.result()` to fetch the error message to help debug as follows:\n",
        "\n"
      ]
    },
    {
      "cell_type": "code",
      "execution_count": null,
      "id": "4070e592",
      "metadata": {
        "tags": [
          "raises-exception"
        ]
      },
      "outputs": [],
      "source": [
        "job = function.run(\n",
        "    backend_name=\"bad_backend_name\", pubs=pubs, options=options\n",
        ")\n",
        "\n",
        "print(job.result())"
      ]
    }
  ],
  "metadata": {
    "description": "Explore how to use the IBM Circuit function, with AI-driven transpilation and advanced error mitigation (TREX, ZNE, PEA)",
    "kernelspec": {
      "display_name": "Python 3",
      "language": "python",
      "name": "python3"
    },
    "language_info": {
      "codemirror_mode": {
        "name": "ipython",
        "version": 3
      },
      "file_extension": ".py",
      "mimetype": "text/x-python",
      "name": "python",
      "nbconvert_exporter": "python",
      "pygments_lexer": "ipython3",
      "version": "3.9.6"
    },
    "title": "IBM Circuit function"
  },
  "nbformat": 4,
  "nbformat_minor": 5
}
