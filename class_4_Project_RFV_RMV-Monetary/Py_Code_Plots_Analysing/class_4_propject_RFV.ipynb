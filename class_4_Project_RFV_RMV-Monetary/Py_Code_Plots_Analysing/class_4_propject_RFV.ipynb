{
  "nbformat": 4,
  "nbformat_minor": 0,
  "metadata": {
    "colab": {
      "private_outputs": true,
      "provenance": []
    },
    "kernelspec": {
      "name": "python3",
      "display_name": "Python 3"
    },
    "language_info": {
      "name": "python"
    }
  },
  "cells": [
    {
      "cell_type": "markdown",
      "source": [
        "🇺🇸Using the dataset RVF_Project.xlsx, generate the code with explanatory hashtags in both English and Portuguese for calculating RFM (Recency, Frequency, Monetary Value). Create plots with a dark background and turquoise color scheme.\n",
        "Next, create scoring bands from 1 to 5 for recency, frequency, and monetary value. I provided pivot tables as reference, but you can perform all calculations in Python if preferred.\n",
        "The final deliverable, as illustrated in the 'Resposta' sheet, should include each customer's corresponding recency, frequency, and monetary value bands. Also, provide a table showing the cut-off points used for each band.\n",
        "\n",
        "\n",
        "\n",
        "🇧🇷 Usando o dataset RVF_Project.xlsx, gere o código com hashtags explicativas em inglês e português para calcular o RFM (Recência, Frequência, Valor Monetário). Crie gráficos com fundo escuro e esquema de cores turquesa.\n",
        "Em seguida, crie faixas de pontuação de 1 a 5 para recência, frequência e valor monetário. Eu forneci tabelas dinâmicas como referência, mas você pode realizar todos os cálculos em Python, se preferir.\n",
        "\n",
        "O produto final, conforme ilustrado na aba 'Resposta', deve incluir para cada cliente as respectivas faixas de recência, frequência e valor monetário. Além disso, forneça uma tabela com os pontos de corte utilizados para cada faixa.\n"
      ],
      "metadata": {
        "id": "iEKtr5TOLI2w"
      }
    },
    {
      "cell_type": "code",
      "source": [
        "from google.colab import userdata\n",
        "userdata.get('GOOGLE_API_KEY_1')"
      ],
      "metadata": {
        "id": "VoEuZleCLdR6"
      },
      "execution_count": null,
      "outputs": []
    },
    {
      "cell_type": "markdown",
      "metadata": {
        "id": "d04ffb28"
      },
      "source": [
        "# Task\n",
        "Analyze the customer data in \"RVF_Project.xlsx\" to calculate RFM (Recency, Frequency, Monetary Value), create 5-band scores for each RFM component, and present a table showing each customer's RFM bands along with the cut-off points used for the bands. Include explanatory code comments in both English and Portuguese and generate plots with a dark background and turquoise color scheme."
      ]
    },
    {
      "cell_type": "markdown",
      "metadata": {
        "id": "4b80d61e"
      },
      "source": [
        "## Load the data\n",
        "\n",
        "### Subtask:\n",
        "Load the data from the \"RVF_Project.xlsx\" file into a pandas DataFrame.\n"
      ]
    },
    {
      "cell_type": "markdown",
      "metadata": {
        "id": "1fe88551"
      },
      "source": [
        "**Reasoning**:\n",
        "Import the pandas library and load the data from the Excel file into a DataFrame. Display the first few rows to confirm the data is loaded correctly.\n",
        "\n"
      ]
    },
    {
      "cell_type": "code",
      "metadata": {
        "id": "8f33a37d"
      },
      "source": [
        "# Import pandas library / Importa a biblioteca pandas\n",
        "import pandas as pd\n",
        "\n",
        "# Load data from the Excel file into a DataFrame / Carrega os dados do arquivo Excel em um DataFrame\n",
        "file_path = '/content/RVF_Project.xlsx'\n",
        "df = pd.read_excel(file_path)\n",
        "\n",
        "# Display the first few rows of the DataFrame / Exibe as primeiras linhas do DataFrame\n",
        "display(df.head())"
      ],
      "execution_count": null,
      "outputs": []
    },
    {
      "cell_type": "markdown",
      "metadata": {
        "id": "733af053"
      },
      "source": [
        "**Reasoning**:\n",
        "The data was loaded, but it includes extra rows and columns that are not part of the actual data. Based on the column headers in row 1 and the data starting from row 2, I need to load the data again, skipping the first two rows and specifying the correct column names for 'Valor', 'Frequência', and 'Recência'.\n",
        "\n"
      ]
    },
    {
      "cell_type": "code",
      "metadata": {
        "id": "0dc408cd"
      },
      "source": [
        "# Load data again, skipping the first two rows and specifying column names / Carrega os dados novamente, pulando as duas primeiras linhas e especificando os nomes das colunas\n",
        "df = pd.read_excel(file_path, skiprows=2, names=['Valor_Cliente', 'Monetary', 'Unnamed_2', 'Unnamed_3', 'Frequencia_Cliente', 'Frequency', 'Unnamed_5', 'Unnamed_6', 'Recencia_Cliente', 'Recency'])\n",
        "\n",
        "# Drop the rows that contain 'Total Geral' / Remove as linhas que contêm 'Total Geral'\n",
        "df = df[df['Valor_Cliente'] != 'Total Geral'].copy()\n",
        "\n",
        "# Select only the relevant columns for RFM / Seleciona apenas as colunas relevantes para RFM\n",
        "df = df[['Valor_Cliente', 'Monetary', 'Frequency', 'Recency']]\n",
        "\n",
        "# Display the first few rows of the cleaned DataFrame / Exibe as primeiras linhas do DataFrame limpo\n",
        "display(df.head())"
      ],
      "execution_count": null,
      "outputs": []
    },
    {
      "cell_type": "markdown",
      "metadata": {
        "id": "0eb25536"
      },
      "source": [
        "## Data preparation\n",
        "\n",
        "### Subtask:\n",
        "Clean and prepare the data for RFM analysis. This may involve handling missing values, converting data types, and selecting relevant columns.\n"
      ]
    },
    {
      "cell_type": "markdown",
      "metadata": {
        "id": "d3426a68"
      },
      "source": [
        "**Reasoning**:\n",
        "Inspect the data types and convert columns to the appropriate types for RFM analysis.\n",
        "\n"
      ]
    },
    {
      "cell_type": "code",
      "metadata": {
        "id": "af8d2d9b"
      },
      "source": [
        "# Inspect data types of the DataFrame columns / Inspeciona os tipos de dados das colunas do DataFrame\n",
        "print(\"Data types before conversion:\") # Imprime os tipos de dados antes da conversão\n",
        "display(df.dtypes)\n",
        "\n",
        "# Convert 'Recency' column to datetime / Converte a coluna 'Recency' para o tipo datetime\n",
        "df['Recency'] = pd.to_datetime(df['Recency'], errors='coerce')\n",
        "\n",
        "# Convert 'Monetary' and 'Frequency' columns to numeric, handling potential errors / Converte as colunas 'Monetary' e 'Frequency' para numérico, lidando com erros potenciais\n",
        "df['Monetary'] = pd.to_numeric(df['Monetary'], errors='coerce')\n",
        "df['Frequency'] = pd.to_numeric(df['Frequency'], errors='coerce')\n",
        "\n",
        "# Check for and handle missing values that resulted from conversion / Verifica e lida com valores ausentes resultantes da conversão\n",
        "print(\"\\nMissing values after conversion:\") # Imprime os valores ausentes após a conversão\n",
        "display(df.isnull().sum())\n",
        "\n",
        "# Drop rows with missing values if any resulted from coercion / Remove linhas com valores ausentes, se houver, resultantes da coerção\n",
        "df.dropna(inplace=True)\n",
        "\n",
        "# Inspect data types after conversion and dropping missing values / Inspeciona os tipos de dados após a conversão e remoção de valores ausentes\n",
        "print(\"\\nData types after conversion and dropping missing values:\") # Imprime os tipos de dados após a conversão e remoção de valores ausentes\n",
        "display(df.dtypes)\n",
        "\n",
        "# Display the first few rows to confirm changes / Exibe as primeiras linhas para confirmar as mudanças\n",
        "display(df.head())"
      ],
      "execution_count": null,
      "outputs": []
    },
    {
      "cell_type": "markdown",
      "metadata": {
        "id": "69d9b7d6"
      },
      "source": [
        "## Calculate rfm\n",
        "\n",
        "### Subtask:\n",
        "Calculate Recency, Frequency, and Monetary Value for each customer.\n"
      ]
    },
    {
      "cell_type": "markdown",
      "metadata": {
        "id": "62be29a8"
      },
      "source": [
        "**Reasoning**:\n",
        "Determine the analysis date and calculate the Recency for each customer.\n",
        "\n"
      ]
    },
    {
      "cell_type": "code",
      "metadata": {
        "id": "cf8f2a1f"
      },
      "source": [
        "import datetime as dt\n",
        "\n",
        "# Determine the analysis date (a date slightly after the latest transaction)\n",
        "# Determina a data de análise (uma data ligeiramente após a data da última transação)\n",
        "analysis_date = df['Recency'].max() + dt.timedelta(days=1)\n",
        "print(f\"Analysis Date: {analysis_date}\") # Imprime a data de análise\n",
        "\n",
        "# Calculate Recency in days for each customer\n",
        "# Calcula a Recência em dias para cada cliente\n",
        "df['Recency_Days'] = (analysis_date - df['Recency']).dt.days\n",
        "\n",
        "# Display the first few rows with the new 'Recency_Days' column\n",
        "# Exibe as primeiras linhas com a nova coluna 'Recency_Days'\n",
        "display(df[['Valor_Cliente', 'Recency_Days', 'Frequency', 'Monetary']].head())"
      ],
      "execution_count": null,
      "outputs": []
    },
    {
      "cell_type": "markdown",
      "metadata": {
        "id": "3925a850"
      },
      "source": [
        "## Create rfm bands\n",
        "\n",
        "### Subtask:\n",
        "Create scoring bands (1 to 5) for Recency, Frequency, and Monetary Value based on the calculated values.\n"
      ]
    },
    {
      "cell_type": "markdown",
      "metadata": {
        "id": "c3e65969"
      },
      "source": [
        "**Reasoning**:\n",
        "Define the number of bands and then use quantiles to create scoring bands for Recency, Frequency, and Monetary Value, assigning scores based on the instructions and adding them as new columns to the DataFrame.\n",
        "\n"
      ]
    },
    {
      "cell_type": "code",
      "metadata": {
        "id": "2a0db3af"
      },
      "source": [
        "# Define the number of bands for scoring / Define o número de faixas para pontuação\n",
        "num_bands = 5\n",
        "\n",
        "# Create scoring bands for Recency / Cria faixas de pontuação para Recência\n",
        "# Lower Recency_Days means higher recency, so score 5 is for the lowest Recency_Days (most recent)\n",
        "# Menor Recency_Days significa maior recência, então a pontuação 5 é para o menor Recency_Days (mais recente)\n",
        "df['R_Score'] = pd.qcut(df['Recency_Days'], num_bands, labels=[5, 4, 3, 2, 1])\n",
        "\n",
        "# Create scoring bands for Frequency / Cria faixas de pontuação para Frequência\n",
        "# Higher Frequency means higher score\n",
        "# Maior Frequência significa maior pontuação\n",
        "df['F_Score'] = pd.qcut(df['Frequency'], num_bands, labels=[1, 2, 3, 4, 5])\n",
        "\n",
        "# Create scoring bands for Monetary Value / Cria faixas de pontuação para Valor Monetário\n",
        "# Higher Monetary means higher score\n",
        "# Maior Valor Monetário significa maior pontuação\n",
        "df['M_Score'] = pd.qcut(df['Monetary'], num_bands, labels=[1, 2, 3, 4, 5])\n",
        "\n",
        "# Display the first few rows with the new score columns / Exibe as primeiras linhas com as novas colunas de pontuação\n",
        "display(df[['Valor_Cliente', 'Recency_Days', 'R_Score', 'Frequency', 'F_Score', 'Monetary', 'M_Score']].head())"
      ],
      "execution_count": null,
      "outputs": []
    },
    {
      "cell_type": "markdown",
      "metadata": {
        "id": "fdeb88d8"
      },
      "source": [
        "## Combine rfm bands\n",
        "\n",
        "### Subtask:\n",
        "Combine the RFM bands to create a single RFM score or segment for each customer.\n"
      ]
    },
    {
      "cell_type": "markdown",
      "metadata": {
        "id": "1194f373"
      },
      "source": [
        "**Reasoning**:\n",
        "Concatenate the RFM scores into a single string and create a composite RFM score.\n",
        "\n"
      ]
    },
    {
      "cell_type": "code",
      "metadata": {
        "id": "4fd87407"
      },
      "source": [
        "# Concatenate the R, F, and M scores into a single string to create the RFM segment\n",
        "# Concatena as pontuações R, F e M em uma única string para criar o segmento RFM\n",
        "df['RFM_Segment'] = df['R_Score'].astype(str) + df['F_Score'].astype(str) + df['M_Score'].astype(str)\n",
        "\n",
        "# Create a composite RFM score by summing the individual scores\n",
        "# Cria uma pontuação RFM composta somando as pontuações individuais\n",
        "df['RFM_Score'] = df['R_Score'].astype(int) + df['F_Score'].astype(int) + df['M_Score'].astype(int)\n",
        "\n",
        "# Display the first few rows of the DataFrame including the new RFM columns\n",
        "# Exibe as primeiras linhas do DataFrame incluindo as novas colunas RFM\n",
        "display(df[['Valor_Cliente', 'R_Score', 'F_Score', 'M_Score', 'RFM_Segment', 'RFM_Score']].head())"
      ],
      "execution_count": null,
      "outputs": []
    },
    {
      "cell_type": "markdown",
      "metadata": {
        "id": "a4898e6b"
      },
      "source": [
        "## Visualize rfm\n",
        "\n",
        "### Subtask:\n",
        "Create visualizations (with dark background and turquoise color scheme) to explore the distribution of RFM values and segments.\n"
      ]
    },
    {
      "cell_type": "markdown",
      "metadata": {
        "id": "ff831714"
      },
      "source": [
        "**Reasoning**:\n",
        "Import necessary libraries and set the plotting style for dark background and turquoise color scheme.\n",
        "\n"
      ]
    },
    {
      "cell_type": "code",
      "metadata": {
        "id": "99568ed3"
      },
      "source": [
        "# Import necessary libraries for plotting / Importa as bibliotecas necessárias para plotagem\n",
        "import matplotlib.pyplot as plt\n",
        "import seaborn as sns\n",
        "\n",
        "# Set the plotting style to a dark background / Define o estilo de plotagem para um fundo escuro\n",
        "plt.style.use('dark_background')\n",
        "\n",
        "# Define a turquoise color palette / Define uma paleta de cores turquesa\n",
        "turquoise_palette = sns.color_palette(\"mako\", n_colors=5) # Using 'mako' as it has turquoise shades\n",
        "\n",
        "# Set the color palette for seaborn plots / Define a paleta de cores para os gráficos do seaborn\n",
        "sns.set_palette(turquoise_palette)"
      ],
      "execution_count": null,
      "outputs": []
    },
    {
      "cell_type": "markdown",
      "metadata": {
        "id": "2e9cc91e"
      },
      "source": [
        "**Reasoning**:\n",
        "Create histograms for Recency_Days, Frequency, and Monetary to visualize their distributions with the defined style and color palette.\n",
        "\n"
      ]
    },
    {
      "cell_type": "code",
      "metadata": {
        "id": "85113b0b"
      },
      "source": [
        "# Create histograms for the distribution of RFM metrics\n",
        "# Cria histogramas para a distribuição das métricas RFM\n",
        "\n",
        "# Plotting Recency Distribution / Plotando a Distribuição de Recência\n",
        "plt.figure(figsize=(10, 6)) # Define o tamanho da figura\n",
        "sns.histplot(data=df, x='Recency_Days', bins=30, kde=True, color=turquoise_palette[0]) # Cria o histograma com KDE\n",
        "plt.title('Distribution of Recency (Days since last purchase)', color='white') # Adiciona título\n",
        "plt.xlabel('Recency (Days)', color='white') # Adiciona rótulo do eixo x\n",
        "plt.ylabel('Number of Customers', color='white') # Adiciona rótulo do eixo y\n",
        "plt.xticks(color='white') # Define a cor dos ticks do eixo x\n",
        "plt.yticks(color='white') # Define a cor dos ticks do eixo y\n",
        "plt.grid(axis='y', linestyle='--', alpha=0.7) # Adiciona grade no eixo y\n",
        "plt.show() # Exibe o gráfico\n",
        "\n",
        "# Plotting Frequency Distribution / Plotando a Distribuição de Frequência\n",
        "plt.figure(figsize=(10, 6)) # Define o tamanho da figura\n",
        "sns.histplot(data=df, x='Frequency', bins=30, kde=True, color=turquoise_palette[1]) # Cria o histograma com KDE\n",
        "plt.title('Distribution of Frequency (Number of purchases)', color='white') # Adiciona título\n",
        "plt.xlabel('Frequency', color='white') # Adiciona rótulo do eixo x\n",
        "plt.ylabel('Number of Customers', color='white') # Adiciona rótulo do eixo y\n",
        "plt.xticks(color='white') # Define a cor dos ticks do eixo x\n",
        "plt.yticks(color='white') # Define a cor dos ticks do eixo y\n",
        "plt.grid(axis='y', linestyle='--', alpha=0.7) # Adiciona grade no eixo y\n",
        "plt.show() # Exibe o gráfico\n",
        "\n",
        "# Plotting Monetary Distribution / Plotando a Distribuição de Valor Monetário\n",
        "plt.figure(figsize=(10, 6)) # Define o tamanho da figura\n",
        "sns.histplot(data=df, x='Monetary', bins=30, kde=True, color=turquoise_palette[2]) # Cria o histograma com KDE\n",
        "plt.title('Distribution of Monetary Value', color='white') # Adiciona título\n",
        "plt.xlabel('Monetary Value', color='white') # Adiciona rótulo do eixo x\n",
        "plt.ylabel('Number of Customers', color='white') # Adiciona rótulo do eixo y\n",
        "plt.xticks(color='white') # Define a cor dos ticks do eixo x\n",
        "plt.yticks(color='white') # Define a cor dos ticks do eixo y\n",
        "plt.grid(axis='y', linestyle='--', alpha=0.7) # Adiciona grade no eixo y\n",
        "plt.show() # Exibe o gráfico"
      ],
      "execution_count": null,
      "outputs": []
    },
    {
      "cell_type": "code",
      "metadata": {
        "id": "e6662ac4"
      },
      "source": [
        "# Inspect data types of the relevant columns / Inspeciona os tipos de dados das colunas relevantes\n",
        "print(\"Data types of Frequency and Monetary:\") # Imprime os tipos de dados de Frequência e Valor Monetário\n",
        "display(df[['Frequency', 'Monetary']].dtypes)\n",
        "\n",
        "# Check for unique values in Frequency and Monetary to identify potential non-numeric entries\n",
        "# Verifica os valores únicos em Frequência e Valor Monetário para identificar potenciais entradas não numéricas\n",
        "print(\"\\nUnique values in Frequency:\") # Imprime os valores únicos em Frequência\n",
        "display(df['Frequency'].unique())\n",
        "\n",
        "print(\"\\nUnique values in Monetary:\") # Imprime os valores únicos em Valor Monetário\n",
        "display(df['Monetary'].unique())"
      ],
      "execution_count": null,
      "outputs": []
    },
    {
      "cell_type": "markdown",
      "metadata": {
        "id": "76c907fe"
      },
      "source": [
        "## Present results\n",
        "\n",
        "### Subtask:\n",
        "Present the final table with customer RFM bands and a table showing the cut-off points for each band."
      ]
    },
    {
      "cell_type": "markdown",
      "metadata": {
        "id": "1d9c6681"
      },
      "source": [
        "**Reasoning**:\n",
        "Display the DataFrame with the customer RFM bands and calculate and display the cut-off points for each RFM band."
      ]
    },
    {
      "cell_type": "code",
      "metadata": {
        "id": "9279bd5c"
      },
      "source": [
        "# Display the final DataFrame with customer RFM bands / Exibe o DataFrame final com as faixas RFM do cliente\n",
        "print(\"Customer RFM Bands:\") # Imprime cabeçalho\n",
        "display(df[['Valor_Cliente', 'R_Score', 'F_Score', 'M_Score', 'RFM_Segment', 'RFM_Score']].head()) # Exibe as primeiras linhas com as colunas RFM\n",
        "\n",
        "# Calculate and display the cut-off points for each RFM band / Calcula e exibe os pontos de corte para cada faixa RFM\n",
        "def get_band_cutoffs(data, column, num_bands):\n",
        "    # Calculate quantiles / Calcula os quantis\n",
        "    quantiles = data[column].quantile([i/num_bands for i in range(1, num_bands + 1)]).tolist()\n",
        "    # Create a dictionary of cut-off points for each band / Cria um dicionário de pontos de corte para cada faixa\n",
        "    cutoffs = {}\n",
        "    cutoffs[1] = (None, quantiles[0])\n",
        "    for i in range(2, num_bands + 1):\n",
        "        cutoffs[i] = (quantiles[i-2], quantiles[i-1])\n",
        "    return cutoffs\n",
        "\n",
        "recency_cutoffs = get_band_cutoffs(df, 'Recency_Days', num_bands)\n",
        "frequency_cutoffs = get_band_cutoffs(df, 'Frequency', num_bands)\n",
        "monetary_cutoffs = get_band_cutoffs(df, 'Monetary', num_bands)\n",
        "\n",
        "print(\"\\nRFM Band Cut-off Points:\") # Imprime cabeçalho para pontos de corte\n",
        "print(\"Recency Cut-off Points (Days):\") # Imprime cabeçalho para pontos de corte de Recência\n",
        "display(recency_cutoffs)\n",
        "\n",
        "print(\"\\nFrequency Cut-off Points:\") # Imprime cabeçalho para pontos de corte de Frequência\n",
        "display(frequency_cutoffs)\n",
        "\n",
        "print(\"\\nMonetary Cut-off Points:\") # Imprime cabeçalho para pontos de corte de Valor Monetário\n",
        "display(monetary_cutoffs)"
      ],
      "execution_count": null,
      "outputs": []
    },
    {
      "cell_type": "markdown",
      "metadata": {
        "id": "5ade641d"
      },
      "source": [
        "## Finish task\n",
        "\n",
        "### Subtask:\n",
        "Summarize the findings and provide insights based on the RFM analysis."
      ]
    },
    {
      "cell_type": "markdown",
      "metadata": {
        "id": "c382f7eb"
      },
      "source": [
        "**Reasoning**:\n",
        "Based on the RFM analysis, provide a summary of the customer segmentation and insights that can be drawn from the results."
      ]
    },
    {
      "cell_type": "markdown",
      "metadata": {
        "id": "456e060d"
      },
      "source": [
        "**Summary and Insights:**\n",
        "\n",
        "The RFM analysis of the customer data provides valuable insights into customer behavior. By segmenting customers based on their Recency, Frequency, and Monetary value, we can identify different customer groups with varying levels of engagement and value.\n",
        "\n",
        "- **High-Value Customers (e.g., RFM Score 555):** These customers have made recent purchases, buy frequently, and spend a significant amount. They are your most valuable customers and should be nurtured with special offers and loyalty programs.\n",
        "- **Loyal Customers (e.g., High Frequency and Monetary):** These customers buy often and spend well, but their recency might be lower. Strategies to re-engage them could be effective.\n",
        "- **Recent Customers (e.g., High Recency):** These are new customers. Focus on converting them into loyal customers through targeted communication and onboarding programs.\n",
        "- **Losing Customers (e.g., Low Recency, Frequency, and Monetary):** These customers have not purchased recently, buy infrequently, and spend little. Efforts might be focused on win-back campaigns or identifying why they are disengaging.\n",
        "\n",
        "The cut-off points for each band provide clear thresholds for defining these segments. For example:\n",
        "\n",
        "- Customers with Recency of 8 days or less fall into the highest Recency score (Band 5).\n",
        "- Customers with a Frequency of more than 12 purchases fall into the highest Frequency score (Band 5).\n",
        "- Customers with a Monetary value of more than 64177.4 fall into the highest Monetary score (Band 5).\n",
        "\n",
        "By analyzing the distribution of customers across these RFM segments, businesses can tailor their marketing strategies and customer relationship management efforts to maximize customer lifetime value and improve overall business performance.\n",
        "\n",
        "**Next Steps:**\n",
        "\n",
        "You can further analyze each RFM segment to understand their specific characteristics and develop more targeted campaigns. For example, you could:\n",
        "\n",
        "- Analyze the products purchased by each segment.\n",
        "- Determine the preferred channels of communication for each segment.\n",
        "- Develop personalized marketing messages and offers for each segment.\n",
        "\n",
        "This RFM analysis provides a solid foundation for data-driven customer segmentation and targeted marketing."
      ]
    },
    {
      "cell_type": "markdown",
      "metadata": {
        "id": "30fab2fd"
      },
      "source": [
        "## Save RFM Results to Excel\n",
        "\n",
        "### Subtask:\n",
        "Save the customer RFM bands and the band cut-off points to an Excel file with two separate sheets."
      ]
    },
    {
      "cell_type": "markdown",
      "metadata": {
        "id": "bf4420ba"
      },
      "source": [
        "**Reasoning**:\n",
        "Create a pandas ExcelWriter object to write multiple DataFrames to different sheets in a single Excel file. Prepare the customer RFM DataFrame and the cut-off points DataFrames. Write these DataFrames to the Excel file with appropriate sheet names."
      ]
    },
    {
      "cell_type": "code",
      "source": [
        "# Install the xlsxwriter library / Instala a biblioteca xlsxwriter\n",
        "!pip install xlsxwriter"
      ],
      "metadata": {
        "id": "nGtsUgb4QUUF"
      },
      "execution_count": null,
      "outputs": []
    },
    {
      "cell_type": "code",
      "metadata": {
        "id": "7bb6295d"
      },
      "source": [
        "# Create a DataFrame for the cut-off points / Cria um DataFrame para os pontos de corte\n",
        "cutoffs_df = pd.DataFrame({\n",
        "    'Métrica RFM': ['Recência (Dias)', 'Frequência', 'Valor Monetário'], # Métrica RFM em Português\n",
        "    'RFM Metric': ['Recency (Days)', 'Frequency', 'Monetary Value'], # RFM Metric in English\n",
        "    'Faixa 1 / Band 1': [recency_cutoffs[1], frequency_cutoffs[1], monetary_cutoffs[1]], # Faixa 1\n",
        "    'Faixa 2 / Band 2': [recency_cutoffs[2], frequency_cutoffs[2], monetary_cutoffs[2]], # Faixa 2\n",
        "    'Faixa 3 / Band 3': [recency_cutoffs[3], frequency_cutoffs[3], monetary_cutoffs[3]], # Faixa 3\n",
        "    'Faixa 4 / Band 4': [recency_cutoffs[4], frequency_cutoffs[4], monetary_cutoffs[4]], # Faixa 4\n",
        "    'Faixa 5 / Band 5': [recency_cutoffs[5], frequency_cutoffs[5], monetary_cutoffs[5]]  # Faixa 5\n",
        "})\n",
        "\n",
        "# Select the relevant columns for the customer RFM results / Seleciona as colunas relevantes para os resultados RFM do cliente\n",
        "customer_rfm_df = df[['Valor_Cliente', 'R_Score', 'F_Score', 'M_Score', 'RFM_Segment', 'RFM_Score']]\n",
        "\n",
        "# Define the output file path / Define o caminho do arquivo de saída\n",
        "output_path = '/content/RFM_Results.xlsx'\n",
        "\n",
        "# Create an ExcelWriter object using xlsxwriter engine / Cria um objeto ExcelWriter usando o engine xlsxwriter\n",
        "with pd.ExcelWriter(output_path, engine='xlsxwriter') as writer:\n",
        "    # Write the customer RFM DataFrame to the 'Resposta' sheet / Escreve o DataFrame RFM do cliente na aba 'Resposta'\n",
        "    customer_rfm_df.to_excel(writer, sheet_name='Resposta', index=False)\n",
        "    # Write the cut-off points DataFrame to the 'Cut_off_Points' sheet / Escreve o DataFrame de pontos de corte na aba 'Cut_off_Points'\n",
        "    cutoffs_df.to_excel(writer, sheet_name='Cut_off_Points', index=False)\n",
        "\n",
        "    # Get the xlsxwriter workbook and worksheets objects / Obtém os objetos workbook e worksheet do xlsxwriter\n",
        "    workbook  = writer.book\n",
        "    worksheet_resposta = writer.sheets['Resposta']\n",
        "    worksheet_cutoffs = writer.sheets['Cut_off_Points']\n",
        "\n",
        "    # Define formats for header rows / Define formatos para as linhas de cabeçalho\n",
        "    header_format_recency = workbook.add_format({\n",
        "        'bold': True,\n",
        "        'text_wrap': True,\n",
        "        'valign': 'top',\n",
        "        'fg_color': '#4C78A8', # A shade of turquoise\n",
        "        'border': 1\n",
        "    })\n",
        "\n",
        "    header_format_frequency = workbook.add_format({\n",
        "        'bold': True,\n",
        "        'text_wrap': True,\n",
        "        'valign': 'top',\n",
        "        'fg_color': '#72B7B2', # Another shade of turquoise\n",
        "        'border': 1\n",
        "    })\n",
        "\n",
        "    header_format_monetary = workbook.add_format({\n",
        "        'bold': True,\n",
        "        'text_wrap': True,\n",
        "        'valign': 'top',\n",
        "        'fg_color': '#A5B8B9', # A lighter shade of turquoise/gray\n",
        "        'border': 1\n",
        "    })\n",
        "\n",
        "    # Apply format to the header row of the 'Resposta' sheet / Aplica formato à linha de cabeçalho da aba 'Resposta'\n",
        "    for col_num, value in enumerate(customer_rfm_df.columns):\n",
        "        if value in ['Valor_Cliente']:\n",
        "             worksheet_resposta.write(0, col_num, value) # No color for customer name\n",
        "        elif value in ['R_Score']:\n",
        "            worksheet_resposta.write(0, col_num, value, header_format_recency)\n",
        "        elif value in ['F_Score']:\n",
        "            worksheet_resposta.write(0, col_num, value, header_format_frequency)\n",
        "        elif value in ['M_Score']:\n",
        "            worksheet_resposta.write(0, col_num, value, header_format_monetary)\n",
        "        elif value in ['RFM_Segment', 'RFM_Score']:\n",
        "             worksheet_resposta.write(0, col_num, value) # No specific color for combined segment/score\n",
        "\n",
        "\n",
        "    # Apply format to the header row of the 'Cut_off_Points' sheet / Aplica formato à linha de cabeçalho da aba 'Cut_off_Points'\n",
        "    for col_num, value in enumerate(cutoffs_df.columns):\n",
        "         if value in ['Métrica RFM', 'RFM Metric']:\n",
        "              worksheet_cutoffs.write(0, col_num, value) # No color for metric names\n",
        "         elif 'Recência' in value or 'Recency' in value:\n",
        "             worksheet_cutoffs.write(0, col_num, value, header_format_recency)\n",
        "         elif 'Frequência' in value or 'Frequency' in value:\n",
        "             worksheet_cutoffs.write(0, col_num, value, header_format_frequency)\n",
        "         elif 'Valor Monetário' in value or 'Monetary Value' in value:\n",
        "             worksheet_cutoffs.write(0, col_num, value, header_format_monetary)\n",
        "         else:\n",
        "              worksheet_cutoffs.write(0, col_num, value)\n",
        "\n",
        "\n",
        "print(f\"RFM results with colored headers saved to {output_path}\") # Imprime mensagem de confirmação"
      ],
      "execution_count": null,
      "outputs": []
    },
    {
      "cell_type": "code",
      "metadata": {
        "id": "a04150fd"
      },
      "source": [],
      "execution_count": null,
      "outputs": []
    }
  ]
}